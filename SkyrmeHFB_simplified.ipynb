{
 "cells": [
  {
   "cell_type": "code",
   "execution_count": 1,
   "id": "cfae63ae",
   "metadata": {},
   "outputs": [],
   "source": [
    "using Plots\n",
    "using LinearAlgebra\n",
    "using Parameters\n",
    "using StaticArrays\n",
    "using Roots"
   ]
  },
  {
   "cell_type": "code",
   "execution_count": null,
   "id": "9db15bb0",
   "metadata": {},
   "outputs": [],
   "source": [
    "module My\n",
    "\n",
    "using Parameters\n",
    "\n",
    "@with_kw struct PhysicalParam{T₁} @deftype Float64\n",
    "    ħc = 197.\n",
    "    mc² = 938. \n",
    "    \n",
    "    Z::Int64 = 8\n",
    "    N::Int64 = 10\n",
    "    A::Int64 = Z + N\n",
    "    \n",
    "    # parameters for ph interaction\n",
    "    t₀ = -1800\n",
    "    t₃ = 12871\n",
    "    α = 1/3\n",
    "    \n",
    "    # parameters for pp interaction\n",
    "    v₀ = -831\n",
    "    v₃ = 930\n",
    "    P = 1.2\n",
    "    ρ₀ = 0.16\n",
    "    \n",
    "    Nr::Int64 = 100\n",
    "    Δr = 0.1 # [fm]\n",
    "    rs::T₁ = range(0, Nr*Δr, length=Nr+1)\n",
    "    \n",
    "    # buffer\n",
    "    ys_1p::T₂ = zeros(Float64, 2, Nr+1)\n",
    "    ys_2p::T₂ = zeros(Float64, 2, Nr+1)\n",
    "    ys_1m::T₂ = zeros(Float64, 2, Nr+1)\n",
    "    ys_2m::T₂ = zeros(Float64, 2, Nr+1)\n",
    "    \n",
    "    Gs::T₂ = zeros(Float64, 2, Nr+1)\n",
    "    \n",
    "    As::T₃     = zeros(Float64, 2, 2, Nr+1)\n",
    "    As_inv::T₃ = zeros(Float64, 2, 2, Nr+1)\n",
    "end\n",
    "\n",
    "@with_kw struct HFBstates\n",
    "    nstates_max::Int64\n",
    "    \n",
    "    # quasiparticle energies\n",
    "    qpEs::Vector{Float64}\n",
    "    @assert length(qpEs) === nstates_max\n",
    "    \n",
    "    # HFB wave functions\n",
    "    wfs::Array{Float64, 3} \n",
    "    @assert size(wfs, 1) === 2\n",
    "    @assert size(wfs, 3) === nstates_max\n",
    "end\n",
    "\n",
    "end # module My"
   ]
  }
 ],
 "metadata": {
  "kernelspec": {
   "display_name": "Julia 1.7.0",
   "language": "julia",
   "name": "julia-1.7"
  },
  "language_info": {
   "file_extension": ".jl",
   "mimetype": "application/julia",
   "name": "julia",
   "version": "1.7.0"
  }
 },
 "nbformat": 4,
 "nbformat_minor": 5
}
